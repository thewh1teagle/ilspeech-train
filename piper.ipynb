{
 "cells": [
  {
   "cell_type": "markdown",
   "id": "98514b03",
   "metadata": {},
   "source": [
    "# Train piper model on ilspeech"
   ]
  },
  {
   "cell_type": "code",
   "execution_count": null,
   "id": "e497f4df",
   "metadata": {
    "vscode": {
     "languageId": "plaintext"
    }
   },
   "outputs": [],
   "source": [
    "# Prepare dependencies\n",
    "\n",
    "import os\n",
    "\n",
    "!sudo apt-get install espeak-ng -y\n",
    "!git clone https://github.com/thewh1teagle/piper -b hebrew\n",
    "%cd piper/src/python\n",
    "\n",
    "# Don't use uv venv but use global uv\n",
    "os.environ[\"UV_CONSTRAINT\"] = \"\"\n",
    "os.environ[\"UV_BUILD_CONSTRAINT\"] = \"\"\n",
    "os.environ[\"UV_PRERELEASE\"] = \"if-necessary-or-explicit\"\n",
    "os.environ[\"UV_SYSTEM_PYTHON\"] = \"false\"\n",
    "!uv venv\n",
    "!uv pip install -e .\n",
    "!./build_monotonic_align.sh"
   ]
  },
  {
   "cell_type": "code",
   "execution_count": null,
   "id": "39c74a35",
   "metadata": {
    "vscode": {
     "languageId": "plaintext"
    }
   },
   "outputs": [],
   "source": [
    "# Prepare dataset\n",
    "\n",
    "!wget https://huggingface.co/datasets/thewh1teagle/ILSpeech/resolve/main/ilspeech_2025_04_v1.zip\n",
    "!unzip ilspeech_2025_04_v1.zip"
   ]
  },
  {
   "cell_type": "code",
   "execution_count": null,
   "id": "2e79ef89",
   "metadata": {
    "vscode": {
     "languageId": "plaintext"
    }
   },
   "outputs": [],
   "source": [
    "# Prepare checkpoint\n",
    "!wget https://huggingface.co/datasets/rhasspy/piper-checkpoints/resolve/main/en/en_US/ryan/medium/epoch=4641-step=3104302.ckpt"
   ]
  },
  {
   "cell_type": "code",
   "execution_count": null,
   "id": "c1918051",
   "metadata": {
    "vscode": {
     "languageId": "plaintext"
    }
   },
   "outputs": [],
   "source": [
    "# Preprocess\n",
    "\n",
    "!uv run python -m piper_train.preprocess \\\n",
    "    --language he \\\n",
    "    --input-dir ilspeech_2025_04_21_v1 \\\n",
    "    --output-dir ./train \\\n",
    "    --dataset-format ljspeech \\\n",
    "    --single-speaker \\\n",
    "    --sample-rate 22050 \\\n",
    "    --raw-phonemes"
   ]
  },
  {
   "cell_type": "code",
   "execution_count": null,
   "id": "abf66dad",
   "metadata": {
    "vscode": {
     "languageId": "plaintext"
    }
   },
   "outputs": [],
   "source": [
    "# Train\n",
    "\n",
    "# Train\n",
    "!uv run python -m piper_train \\\n",
    "        --dataset-dir \"./train\" \\\n",
    "        --accelerator 'gpu' \\\n",
    "        --devices 1 \\\n",
    "        --batch-size 32 \\\n",
    "        --validation-split 0 \\\n",
    "        --num-test-examples 0 \\\n",
    "        --max_epochs 90000 \\\n",
    "        --resume_from_checkpoint ./epoch=4641-step=3104302.ckpt \\\n",
    "        --checkpoint-epochs 1 \\\n",
    "        --precision 32"
   ]
  },
  {
   "cell_type": "code",
   "execution_count": null,
   "id": "351c5830",
   "metadata": {
    "vscode": {
     "languageId": "plaintext"
    }
   },
   "outputs": [],
   "source": [
    "# infer\n",
    "\n",
    "cat ../../etc/test_sentences/test_he.jsonl  | \\\n",
    "        python3 -m piper_train.infer \\\n",
    "            --sample-rate 22050 \\\n",
    "            --checkpoint ./train/lightning_logs/version_0/checkpoints/*.ckpt \\\n",
    "            --output-dir ./output"
   ]
  }
 ],
 "metadata": {
  "language_info": {
   "name": "python"
  }
 },
 "nbformat": 4,
 "nbformat_minor": 5
}
