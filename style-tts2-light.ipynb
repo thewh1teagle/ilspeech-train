{
 "cells": [
  {
   "cell_type": "markdown",
   "id": "d8aa512b",
   "metadata": {},
   "source": [
    "# Train StyleTTS2 light model on ilspeech"
   ]
  },
  {
   "cell_type": "code",
   "execution_count": null,
   "id": "48b86102",
   "metadata": {
    "vscode": {
     "languageId": "plaintext"
    }
   },
   "outputs": [],
   "source": [
    "# Prepare dependencies\n",
    "\n",
    "import os\n",
    "\n",
    "!sudo apt-get install espeak-ng -y\n",
    "!git clone https://github.com/thewh1teagle/StyleTTS2-lite -b hebrew\n",
    "%cd StyleTTS2-lite\n",
    "\n",
    "# Don't use uv venv but use global uv\n",
    "os.environ[\"UV_CONSTRAINT\"] = \"\"\n",
    "os.environ[\"UV_BUILD_CONSTRAINT\"] = \"\"\n",
    "os.environ[\"UV_PRERELEASE\"] = \"if-necessary-or-explicit\"\n",
    "os.environ[\"UV_SYSTEM_PYTHON\"] = \"false\"\n",
    "!uv venv\n",
    "!uv pip install -r requirements.txt"
   ]
  },
  {
   "cell_type": "code",
   "execution_count": null,
   "id": "20286108",
   "metadata": {
    "vscode": {
     "languageId": "plaintext"
    }
   },
   "outputs": [],
   "source": [
    "# Prepare models\n",
    "!wget https://huggingface.co/dangtr0408/StyleTTS2-lite/resolve/main/base_model.pth -O ./Models/Finetune/base_model.pth\n",
    "!wget https://huggingface.co/dangtr0408/StyleTTS2-lite/resolve/main/config.yaml -O ./Configs/config.yaml"
   ]
  },
  {
   "cell_type": "code",
   "execution_count": null,
   "id": "3e1d505e",
   "metadata": {
    "vscode": {
     "languageId": "plaintext"
    }
   },
   "outputs": [],
   "source": [
    "# Prepare dataset\n",
    "\n",
    "!wget https://huggingface.co/datasets/thewh1teagle/ILSpeech/resolve/main/ilspeech_2025_04_v1.zip\n",
    "!unzip ilspeech_2025_04_v1.zip"
   ]
  },
  {
   "cell_type": "code",
   "execution_count": null,
   "id": "40199448",
   "metadata": {
    "vscode": {
     "languageId": "plaintext"
    }
   },
   "outputs": [],
   "source": [
    "# Convert LJSpeech format to LibriTTS format\n",
    "\n",
    "from pathlib import Path\n",
    "import random\n",
    "\n",
    "base = Path('./ilspeech_2025_04_21_v1')\n",
    "lines = (base / 'metadata.csv').read_text(encoding='utf-8').splitlines()\n",
    "random.shuffle(lines)\n",
    "\n",
    "val_size = max(1, int(0.04 * len(lines)))\n",
    "val_lines, train_lines = lines[:val_size], lines[val_size:]\n",
    "\n",
    "def format_lines(lines):\n",
    "    formatted = []\n",
    "    for line in lines:\n",
    "        utt_id, phonemes = line.strip().split('|')\n",
    "        wav_path = (base / 'wavs' / f'{utt_id}.wav').resolve()\n",
    "        formatted.append(f\"{wav_path}|{phonemes}\")\n",
    "    return formatted\n",
    "\n",
    "(base / 'val.txt').write_text('\\n'.join(format_lines(val_lines)), encoding='utf-8')\n",
    "(base / 'train.txt').write_text('\\n'.join(format_lines(train_lines)), encoding='utf-8')\n",
    "\n"
   ]
  },
  {
   "cell_type": "code",
   "execution_count": null,
   "id": "17e3b9c7",
   "metadata": {
    "vscode": {
     "languageId": "plaintext"
    }
   },
   "outputs": [],
   "source": [
    "# Point config to new dataset\n",
    "\n",
    "import yaml\n",
    "from pathlib import Path\n",
    "\n",
    "config_path = Path('./Configs/config.yaml')\n",
    "data_dir = Path('./ilspeech_2025_04_05_v1')\n",
    "\n",
    "with config_path.open('r', encoding='utf-8') as f:\n",
    "    config = yaml.safe_load(f)\n",
    "\n",
    "# Set paths relative to root_path = ./\n",
    "config['data_params']['root_path'] = './'\n",
    "config['data_params']['train_data'] = str(data_dir / 'train.txt')\n",
    "config['data_params']['val_data'] = str(data_dir / 'val.txt')\n",
    "\n",
    "# Save changes\n",
    "with config_path.open('w', encoding='utf-8') as f:\n",
    "    yaml.dump(config, f, sort_keys=False, allow_unicode=True)\n"
   ]
  },
  {
   "cell_type": "code",
   "execution_count": null,
   "id": "87b19443",
   "metadata": {
    "vscode": {
     "languageId": "plaintext"
    }
   },
   "outputs": [],
   "source": [
    "!uv run python train.py"
   ]
  }
 ],
 "metadata": {
  "language_info": {
   "name": "python"
  }
 },
 "nbformat": 4,
 "nbformat_minor": 5
}
